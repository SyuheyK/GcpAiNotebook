{
 "cells": [
  {
   "cell_type": "code",
   "execution_count": 2,
   "metadata": {
    "collapsed": true,
    "jupyter": {
     "outputs_hidden": true
    }
   },
   "outputs": [
    {
     "name": "stdout",
     "output_type": "stream",
     "text": [
      "Collecting requests\n",
      "  Downloading https://files.pythonhosted.org/packages/51/bd/23c926cd341ea6b7dd0b2a00aba99ae0f828be89d72b2190f27c11d4b7fb/requests-2.22.0-py2.py3-none-any.whl (57kB)\n",
      "\u001b[K    100% |████████████████████████████████| 61kB 3.3MB/s ta 0:00:011\n",
      "\u001b[?25hCollecting urllib3!=1.25.0,!=1.25.1,<1.26,>=1.21.1 (from requests)\n",
      "  Downloading https://files.pythonhosted.org/packages/b4/40/a9837291310ee1ccc242ceb6ebfd9eb21539649f193a7c8c86ba15b98539/urllib3-1.25.7-py2.py3-none-any.whl (125kB)\n",
      "\u001b[K    100% |████████████████████████████████| 133kB 6.1MB/s eta 0:00:01\n",
      "\u001b[?25hCollecting chardet<3.1.0,>=3.0.2 (from requests)\n",
      "  Downloading https://files.pythonhosted.org/packages/bc/a9/01ffebfb562e4274b6487b4bb1ddec7ca55ec7510b22e4c51f14098443b8/chardet-3.0.4-py2.py3-none-any.whl (133kB)\n",
      "\u001b[K    100% |████████████████████████████████| 143kB 2.4MB/s eta 0:00:01\n",
      "\u001b[?25hCollecting certifi>=2017.4.17 (from requests)\n",
      "  Downloading https://files.pythonhosted.org/packages/b9/63/df50cac98ea0d5b006c55a399c3bf1db9da7b5a24de7890bc9cfd5dd9e99/certifi-2019.11.28-py2.py3-none-any.whl (156kB)\n",
      "\u001b[K    100% |████████████████████████████████| 163kB 7.8MB/s eta 0:00:01\n",
      "\u001b[?25hCollecting idna<2.9,>=2.5 (from requests)\n",
      "  Downloading https://files.pythonhosted.org/packages/14/2c/cd551d81dbe15200be1cf41cd03869a46fe7226e7450af7a6545bfc474c9/idna-2.8-py2.py3-none-any.whl (58kB)\n",
      "\u001b[K    100% |████████████████████████████████| 61kB 10.7MB/s ta 0:00:01\n",
      "\u001b[?25hInstalling collected packages: urllib3, chardet, certifi, idna, requests\n",
      "Successfully installed certifi-2019.11.28 chardet-3.0.4 idna-2.8 requests-2.22.0 urllib3-1.25.7\n",
      "Collecting beautifulsoup4\n",
      "  Downloading https://files.pythonhosted.org/packages/3b/c8/a55eb6ea11cd7e5ac4bacdf92bac4693b90d3ba79268be16527555e186f0/beautifulsoup4-4.8.1-py3-none-any.whl (101kB)\n",
      "\u001b[K    100% |████████████████████████████████| 102kB 2.0MB/s a 0:00:011\n",
      "\u001b[?25hCollecting soupsieve>=1.2 (from beautifulsoup4)\n",
      "  Downloading https://files.pythonhosted.org/packages/81/94/03c0f04471fc245d08d0a99f7946ac228ca98da4fa75796c507f61e688c2/soupsieve-1.9.5-py2.py3-none-any.whl\n",
      "Installing collected packages: soupsieve, beautifulsoup4\n",
      "Successfully installed beautifulsoup4-4.8.1 soupsieve-1.9.5\n",
      "Collecting lxml\n",
      "  Downloading https://files.pythonhosted.org/packages/45/e4/dab6984433261722901ca0c3708b3e15fc94fac4b83b1eae9dfed52134e3/lxml-4.4.2-cp35-cp35m-manylinux1_x86_64.whl (5.7MB)\n",
      "\u001b[K    100% |████████████████████████████████| 5.7MB 237kB/s eta 0:00:01\n",
      "\u001b[?25hInstalling collected packages: lxml\n",
      "Successfully installed lxml-4.4.2\n"
     ]
    }
   ],
   "source": [
    "!pip3 install requests\n",
    "!pip3 install beautifulsoup4\n",
    "!pip3 install lxml"
   ]
  },
  {
   "cell_type": "code",
   "execution_count": 1,
   "metadata": {},
   "outputs": [],
   "source": [
    "import pytz\n",
    "import certifi\n",
    "import urllib.request\n",
    "import requests\n",
    "import json\n",
    "from bs4 import BeautifulSoup\n",
    "# urlopen error [SSL: CERTIFICATE_VERIFY_FAILED]を回避\n",
    "import ssl\n",
    "ssl._create_default_https_context = ssl._create_unverified_context"
   ]
  },
  {
   "cell_type": "code",
   "execution_count": 2,
   "metadata": {},
   "outputs": [
    {
     "name": "stdout",
     "output_type": "stream",
     "text": [
      "上質なニットは大人の色気\n",
      "https://www.zerbino.info/blog/2019/12/28853.html\n",
      "ふんわり感が大切ウールチーフ\n",
      "https://www.zerbino.info/blog/2019/12/28916.html\n",
      "お客様紹介　グレーを着こなす\n",
      "https://www.zerbino.info/blog/2019/12/28817.html\n",
      "Gim カシミヤ混クルーネック\n",
      "https://www.zerbino.info/blog/2019/12/28881.html\n",
      "絶対買うべきアリストンスーツ生地\n",
      "https://www.zerbino.info/blog/2019/12/28868.html\n"
     ]
    }
   ],
   "source": [
    "url = \"https://www.zerbino.info/blog/page/1\"\n",
    "html = urllib.request.urlopen(url)\n",
    "soup = BeautifulSoup(html, \"html.parser\")\n",
    "\n",
    "entry_lists = soup.find_all(\"h2\", class_=\"entry-title\")\n",
    "for entry in entry_lists:\n",
    "    print(entry.find(\"a\").string)\n",
    "    print(entry.find(\"a\").get(\"href\"))"
   ]
  },
  {
   "cell_type": "code",
   "execution_count": 3,
   "metadata": {},
   "outputs": [
    {
     "name": "stdout",
     "output_type": "stream",
     "text": [
      "2019年12月21日\n",
      "<div class=\"entry-body\">\n",
      "<p>ZERBINO新宿店スタッフ宮川です。</p>\n",
      "<p>今回のご紹介は</p>\n",
      "<p>胸元を華やかに彩ってくれるチーフです！</p>\n",
      "<p><a href=\"https://www.zerbino.info/wp/wp-content/uploads/2019/12/b8f4d3f5ab0cb96ad1e9b07ebf0b2587.jpg\" rel=\"noopener noreferrer\" target=\"_blank\"><img alt=\"\" class=\"alignnone wp-image-28933\" height=\"401\" sizes=\"(max-width: 600px) 100vw, 600px\" src=\"https://www.zerbino.info/wp/wp-content/uploads/2019/12/b8f4d3f5ab0cb96ad1e9b07ebf0b2587.jpg\" srcset=\"https://www.zerbino.info/wp/wp-content/uploads/2019/12/b8f4d3f5ab0cb96ad1e9b07ebf0b2587.jpg 1000w, https://www.zerbino.info/wp/wp-content/uploads/2019/12/b8f4d3f5ab0cb96ad1e9b07ebf0b2587-300x201.jpg 300w, https://www.zerbino.info/wp/wp-content/uploads/2019/12/b8f4d3f5ab0cb96ad1e9b07ebf0b2587-768x514.jpg 768w\" width=\"600\"/></a></p>\n",
      "<p>¥4800+tax 【made in Italy】</p>\n",
      "<p>チーフといえばシルクのものが多いですが</p>\n",
      "<p>今回のチーフはウールでできています。</p>\n",
      "<p>ウールチーフは季節感やカジュアルな雰囲気などを出せますが、</p>\n",
      "<p>なんと言ってもこの透けるくらいの薄さがこちらのチーフの魅力です。</p>\n",
      "<p><a href=\"https://www.zerbino.info/wp/wp-content/uploads/2019/12/389301bb26f1c96828fa46a6fcb3e1c6.jpg\" rel=\"noopener noreferrer\" target=\"_blank\"><img alt=\"\" class=\"alignnone wp-image-28934\" height=\"401\" sizes=\"(max-width: 600px) 100vw, 600px\" src=\"https://www.zerbino.info/wp/wp-content/uploads/2019/12/389301bb26f1c96828fa46a6fcb3e1c6.jpg\" srcset=\"https://www.zerbino.info/wp/wp-content/uploads/2019/12/389301bb26f1c96828fa46a6fcb3e1c6.jpg 1000w, https://www.zerbino.info/wp/wp-content/uploads/2019/12/389301bb26f1c96828fa46a6fcb3e1c6-300x201.jpg 300w, https://www.zerbino.info/wp/wp-content/uploads/2019/12/389301bb26f1c96828fa46a6fcb3e1c6-768x514.jpg 768w\" width=\"600\"/></a></p>\n",
      "<p>このように向こう側が見えるほどの薄さです。</p>\n",
      "<p>従来のものよりもかなり薄くて</p>\n",
      "<p>ふんわり軽やかですので胸ポケットに入れても</p>\n",
      "<p>ポケットがゴワつきません。</p>\n",
      "<p><a href=\"https://www.zerbino.info/wp/wp-content/uploads/2019/12/d20b04a0d7352de1676da27b40d8d6bb.jpg\" rel=\"noopener noreferrer\" target=\"_blank\"><img alt=\"\" class=\"alignnone wp-image-28936\" height=\"401\" sizes=\"(max-width: 600px) 100vw, 600px\" src=\"https://www.zerbino.info/wp/wp-content/uploads/2019/12/d20b04a0d7352de1676da27b40d8d6bb.jpg\" srcset=\"https://www.zerbino.info/wp/wp-content/uploads/2019/12/d20b04a0d7352de1676da27b40d8d6bb.jpg 1000w, https://www.zerbino.info/wp/wp-content/uploads/2019/12/d20b04a0d7352de1676da27b40d8d6bb-300x201.jpg 300w, https://www.zerbino.info/wp/wp-content/uploads/2019/12/d20b04a0d7352de1676da27b40d8d6bb-768x514.jpg 768w\" width=\"600\"/></a></p>\n",
      "<p>さらっと彩のひとつとしてお使いいただけます。</p>\n",
      "<p>様々な色味、柄でご用意しておりますので</p>\n",
      "<p>店舗にて一度ご覧になられてみてください。</p>\n",
      "<p> </p>\n",
      "<p>■新宿店専用LINEアカウント</p>\n",
      "<p>お問い合わせやなど直接承ります。</p>\n",
      "<p>基本的にご来店いただいた順番に対応させていただきますが、</p>\n",
      "<p>ご予約いただければなるべくスタッフを空けておくよう</p>\n",
      "<p>手配させていただきます。</p>\n",
      "<p>パソコンでの対応となりますので返答にお時間をいただく場合がございます。</p>\n",
      "<p>お急ぎの場合はお電話いただければ対応いたします。</p>\n",
      "<p><strong>登録ID ： @253hxeso</strong></p>\n",
      "<p>※友だち検索で上記のIDを入力するか、</p>\n",
      "<p>QRコード読み込みで登録お願い致します。</p>\n",
      "<p>http://nav.cx/fULCXy7(こちらのリンクで友達追加が出来ます。)</p>\n",
      "<p><a href=\"https://www.zerbino.info/wp/wp-content/uploads/2019/05/M.png\"><img alt=\"LINEアカウント　ZERBINO新宿\" class=\"alignnone size-full wp-image-26274\" height=\"180\" sizes=\"(max-width: 180px) 100vw, 180px\" src=\"https://www.zerbino.info/wp/wp-content/uploads/2019/05/M.png\" srcset=\"https://www.zerbino.info/wp/wp-content/uploads/2019/05/M.png 180w, https://www.zerbino.info/wp/wp-content/uploads/2019/05/M-150x150.png 150w\" width=\"180\"/></a></p>\n",
      "<div>\n",
      "<div>\n",
      "<p>■営業情報</p>\n",
      "<p>月～土　11：00-20：00</p>\n",
      "<p>日のみ　11：00-18：30</p>\n",
      "<p>※連休の場合は日曜も通常営業で最終日が18：30までとなります。</p>\n",
      "<p><strong> </strong></p>\n",
      "<p>■ZERBINO新宿店へのアクセス</p>\n",
      "<p><a href=\"https://www.google.com/maps/place/%E3%82%BC%E3%83%AB%E3%83%B4%E3%82%A3%E3%83%BC%E3%83%8E%E3%80%90ZERBINO%E3%80%91+%E6%96%B0%E5%AE%BF%E5%BA%97/@35.691056,139.696314,17z/data=!4m5!3m4!1s0x0:0x992bc3c11cdc4472!8m2!3d35.6912301!4d139.6955227?hl=ja\">新宿店へのアクセスはこちらをご覧ください。</a></p>\n",
      "<p>■ZERBINO TOP</p>\n",
      "<p>URL: <a href=\"https://www.zerbino.info/item/\">https://www.zerbino.info/</a></p>\n",
      "<p>■ZERBINO Gallery</p>\n",
      "</div>\n",
      "</div>\n",
      "<p> </p>\n",
      "</div>\n"
     ]
    }
   ],
   "source": [
    "single_entry = BeautifulSoup(urllib.request.urlopen(entry_lists[1].find(\"a\").get(\"href\")), \"html.parser\")\n",
    "print(single_entry.find(\"span\", class_=\"entry-date\").string)\n",
    "print(single_entry.find(\"div\", class_=\"entry-body\"))"
   ]
  },
  {
   "cell_type": "markdown",
   "metadata": {},
   "source": [
    "# TODO\n",
    "## pagenationを調べる\n",
    "## pageごとに全エントリを抽出"
   ]
  },
  {
   "cell_type": "code",
   "execution_count": 19,
   "metadata": {},
   "outputs": [
    {
     "name": "stdout",
     "output_type": "stream",
     "text": [
      "<title>【ミニコラム】誰も教えてくれない、股下の最適な長さ | ブログ | 東京のオーダースーツ【ZERBINO】ゼルヴィーノ</title>\n",
      "title\n",
      "【ミニコラム】誰も教えてくれない、股下の最適な長さ | ブログ | 東京のオーダースーツ【ZERBINO】ゼルヴィーノ\n"
     ]
    }
   ],
   "source": [
    "url = \"https://www.zerbino.info/blog/2019/12/28657.html\"\n",
    "html = urllib.request.urlopen(url)\n",
    "soup = BeautifulSoup(html, \"html.parser\")\n",
    "#soup.find_all(True)\n",
    "\n",
    "print(soup.title)\n",
    "print(soup.title.name)   #title\n",
    "print(soup.title.string) #Remrinのpython攻略日記\n",
    "\n",
    "print(soup.title)"
   ]
  },
  {
   "cell_type": "markdown",
   "metadata": {},
   "source": [
    "## 神記事\n",
    "https://qiita.com/itkr/items/513318a9b5b92bd56185"
   ]
  },
  {
   "cell_type": "code",
   "execution_count": 58,
   "metadata": {},
   "outputs": [
    {
     "name": "stdout",
     "output_type": "stream",
     "text": [
      "[<h2 class=\"entry-title\">\n",
      "<a href=\"https://www.zerbino.info/blog/2019/12/28788.html\">安定のブラウン推しです。</a>\n",
      "</h2>, <h2 class=\"entry-title\">\n",
      "<a href=\"https://www.zerbino.info/blog/2019/12/28701.html\">私物紹介　カシミヤマフラー</a>\n",
      "</h2>, <h2 class=\"entry-title\">\n",
      "<a href=\"https://www.zerbino.info/blog/2019/12/28728.html\">存在感のあるコートです。</a>\n",
      "</h2>, <h2 class=\"entry-title\">\n",
      "<a href=\"https://www.zerbino.info/blog/2019/12/28780.html\">Cesare Gatti/チェザーレ ガッティのカシミアマフラー</a>\n",
      "</h2>, <h2 class=\"entry-title\">\n",
      "<a href=\"https://www.zerbino.info/blog/2019/12/28746.html\">フォーマルにベルベットはいかがですか？</a>\n",
      "</h2>]\n"
     ]
    }
   ],
   "source": [
    "url = \"https://www.zerbino.info/blog/page/2\"\n",
    "html = urllib.request.urlopen(url)\n",
    "soup = BeautifulSoup(html, \"html.parser\")\n",
    "#soup.find_all(True)\n",
    "\n",
    "# 例えば<a href=\"/link\" class=\"link\">のように\n",
    "# classがlinkでhrefが/linkのaタグをすべて取得するには\n",
    "# soup.find_all(\"a\", class_=\"link\", href=\"/link\")\n",
    "#print(soup.find(\"div\", class_=\"entry-header\"))\n",
    "print(soup.find_all(\"h2\", class_=\"entry-title\"))"
   ]
  },
  {
   "cell_type": "code",
   "execution_count": 57,
   "metadata": {},
   "outputs": [
    {
     "name": "stdout",
     "output_type": "stream",
     "text": [
      "安定のブラウン推しです。\n",
      "https://www.zerbino.info/blog/2019/12/28788.html\n"
     ]
    }
   ],
   "source": [
    "entry_lists = soup.find_all(\"h2\", class_=\"entry-title\")\n",
    "print(entry_lists[0].find(\"a\").string)\n",
    "print(entry_lists[0].find(\"a\").get(\"href\"))"
   ]
  },
  {
   "cell_type": "markdown",
   "metadata": {},
   "source": [
    "### ちゃうねん\n",
    "\n",
    "https://www.geekfeed.co.jp/geekblog/blog_update_bot#142931"
   ]
  },
  {
   "cell_type": "code",
   "execution_count": 8,
   "metadata": {},
   "outputs": [],
   "source": [
    "def check_update(url):\n",
    "    html = urllib.request.urlopen(url)\n",
    "    soup = BeautifulSoup(html, \"html.parser\")\n",
    "    # 記事のリスト要素を取得\n",
    "    posts = soup.find(class_=\"blog_list\").find_all(\"li\", class_=\"clearfix\")\n",
    "    articles = []\n",
    " \n",
    "    for post in posts:\n",
    "        title = post.h3.a.string\n",
    "        url = post.h3.a['href']\n",
    "        author = post.find(class_=\"author\").span.string\n",
    "        # 日付をチェックするために記事の中へ\n",
    "        article_html = urllib.request.urlopen(url)\n",
    "        soup = BeautifulSoup(article_html, \"html.parser\")\n",
    "        post_date_str = soup.find('meta', attrs={'property': 'article:published_time'}).get('content')\n",
    "        #post_date = datetime.datetime.strptime(post_date_str, \"%Y-%m-%dT%H:%M:%S%fZ\")\n",
    "        #post_date = pytz.utc.localize(post_date).astimezone(pytz.timezone(\"Asia/Tokyo\"))\n",
    "        # 日付チェック\n",
    "        #if post_date < target_date:\n",
    "        #    break\n",
    " \n",
    "        article_dict = {\n",
    "            \"title\": title,\n",
    "            \"url\": url,\n",
    "            \"author\": author\n",
    "        }\n",
    "        articles.append(article_dict)\n",
    " \n",
    "    return articles\n",
    " "
   ]
  },
  {
   "cell_type": "markdown",
   "metadata": {},
   "source": [
    "### ちょっと違う\n",
    "http://be-07.hatenablog.com/entry/2016/12/23/012055"
   ]
  },
  {
   "cell_type": "code",
   "execution_count": 25,
   "metadata": {},
   "outputs": [],
   "source": [
    "def get_entry_list(html):\n",
    "    url_list = [html]\n",
    "    while True:\n",
    "        html = requests.get(html).content\n",
    "        soup = BeautifulSoup(html, \"lxml\")\n",
    "        next_page = soup.find(\"a\", {\"class\", \"skinSimpleBtn pagingNext\"})\n",
    "        if isinstance(next_page, type(None)):\n",
    "            print(\"finish\")\n",
    "            return url_list\n",
    "        else:\n",
    "            url_list.append(next_page[\"href\"])\n",
    "            html = next_page[\"href\"]"
   ]
  },
  {
   "cell_type": "code",
   "execution_count": 29,
   "metadata": {},
   "outputs": [
    {
     "name": "stdout",
     "output_type": "stream",
     "text": [
      "finish\n"
     ]
    }
   ],
   "source": [
    "url = \"https://www.zerbino.info/blog/page/\"\n",
    "# 記事のリスト要素を取得\n",
    "posts = get_entry_list(url)"
   ]
  },
  {
   "cell_type": "code",
   "execution_count": 30,
   "metadata": {},
   "outputs": [
    {
     "name": "stdout",
     "output_type": "stream",
     "text": [
      "['https://www.zerbino.info/blog/page/']\n"
     ]
    }
   ],
   "source": [
    "print(posts)"
   ]
  },
  {
   "cell_type": "markdown",
   "metadata": {},
   "source": [
    "### 近いけど違う\n",
    "https://yukituna.com/1684/"
   ]
  },
  {
   "cell_type": "code",
   "execution_count": 33,
   "metadata": {},
   "outputs": [
    {
     "ename": "AttributeError",
     "evalue": "'NoneType' object has no attribute 'find_all'",
     "output_type": "error",
     "traceback": [
      "\u001b[0;31m---------------------------------------------------------------------------\u001b[0m",
      "\u001b[0;31mAttributeError\u001b[0m                            Traceback (most recent call last)",
      "\u001b[0;32m<ipython-input-33-8eaf0168e62a>\u001b[0m in \u001b[0;36m<module>\u001b[0;34m\u001b[0m\n\u001b[1;32m      9\u001b[0m \u001b[0;34m\u001b[0m\u001b[0m\n\u001b[1;32m     10\u001b[0m \u001b[0murl\u001b[0m \u001b[0;34m=\u001b[0m \u001b[0;34m\"https://www.zerbino.info/blog/2019/12\"\u001b[0m\u001b[0;34m\u001b[0m\u001b[0m\n\u001b[0;32m---> 11\u001b[0;31m \u001b[0mlinks\u001b[0m \u001b[0;34m=\u001b[0m \u001b[0mgetLinks\u001b[0m\u001b[0;34m(\u001b[0m\u001b[0murl\u001b[0m\u001b[0;34m)\u001b[0m\u001b[0;34m\u001b[0m\u001b[0m\n\u001b[0m\u001b[1;32m     12\u001b[0m \u001b[0;32mfor\u001b[0m \u001b[0mlink\u001b[0m \u001b[0;32min\u001b[0m \u001b[0mlinks\u001b[0m\u001b[0;34m:\u001b[0m\u001b[0;34m\u001b[0m\u001b[0m\n\u001b[1;32m     13\u001b[0m     \u001b[0mprint\u001b[0m\u001b[0;34m(\u001b[0m\u001b[0mlink\u001b[0m\u001b[0;34m)\u001b[0m\u001b[0;34m\u001b[0m\u001b[0m\n",
      "\u001b[0;32m<ipython-input-33-8eaf0168e62a>\u001b[0m in \u001b[0;36mgetLinks\u001b[0;34m(articleUrl)\u001b[0m\n\u001b[1;32m      6\u001b[0m     \u001b[0mhtml\u001b[0m \u001b[0;34m=\u001b[0m \u001b[0murlopen\u001b[0m\u001b[0;34m(\u001b[0m\u001b[0marticleUrl\u001b[0m\u001b[0;34m)\u001b[0m\u001b[0;34m\u001b[0m\u001b[0m\n\u001b[1;32m      7\u001b[0m     \u001b[0mbsObj\u001b[0m \u001b[0;34m=\u001b[0m \u001b[0mBeautifulSoup\u001b[0m\u001b[0;34m(\u001b[0m\u001b[0mhtml\u001b[0m\u001b[0;34m,\u001b[0m \u001b[0;34m\"html.parser\"\u001b[0m\u001b[0;34m)\u001b[0m\u001b[0;34m\u001b[0m\u001b[0m\n\u001b[0;32m----> 8\u001b[0;31m     \u001b[0;32mreturn\u001b[0m \u001b[0mbsObj\u001b[0m\u001b[0;34m.\u001b[0m\u001b[0mfind\u001b[0m\u001b[0;34m(\u001b[0m\u001b[0;34m\"ul\"\u001b[0m\u001b[0;34m,\u001b[0m \u001b[0;34m{\u001b[0m\u001b[0;34m\"id\"\u001b[0m\u001b[0;34m:\u001b[0m \u001b[0;34m\"sitemap_list\"\u001b[0m\u001b[0;34m}\u001b[0m\u001b[0;34m)\u001b[0m\u001b[0;34m.\u001b[0m\u001b[0mfind_all\u001b[0m\u001b[0;34m(\u001b[0m\u001b[0;34m\"a\"\u001b[0m\u001b[0;34m)\u001b[0m\u001b[0;34m\u001b[0m\u001b[0m\n\u001b[0m\u001b[1;32m      9\u001b[0m \u001b[0;34m\u001b[0m\u001b[0m\n\u001b[1;32m     10\u001b[0m \u001b[0murl\u001b[0m \u001b[0;34m=\u001b[0m \u001b[0;34m\"https://www.zerbino.info/blog/2019/12\"\u001b[0m\u001b[0;34m\u001b[0m\u001b[0m\n",
      "\u001b[0;31mAttributeError\u001b[0m: 'NoneType' object has no attribute 'find_all'"
     ]
    }
   ],
   "source": [
    "from urllib.request import urlopen\n",
    "from bs4 import BeautifulSoup\n",
    "\n",
    "\n",
    "def getLinks(articleUrl):\n",
    "    html = urlopen(articleUrl)\n",
    "    bsObj = BeautifulSoup(html, \"html.parser\")\n",
    "    return bsObj.find(\"ul\", {\"id\": \"sitemap_list\"}).find_all(\"a\")\n",
    "\n",
    "url = \"https://www.zerbino.info/blog/2019/12\"\n",
    "links = getLinks(url)\n",
    "for link in links:\n",
    "    print(link)"
   ]
  },
  {
   "cell_type": "markdown",
   "metadata": {},
   "source": [
    "### scrapyを使うしかない？\n",
    "https://www.sejuku.net/blog/69383"
   ]
  },
  {
   "cell_type": "code",
   "execution_count": null,
   "metadata": {},
   "outputs": [],
   "source": []
  }
 ],
 "metadata": {
  "kernelspec": {
   "display_name": "Python 3",
   "language": "python",
   "name": "python3"
  },
  "language_info": {
   "codemirror_mode": {
    "name": "ipython",
    "version": 3
   },
   "file_extension": ".py",
   "mimetype": "text/x-python",
   "name": "python",
   "nbconvert_exporter": "python",
   "pygments_lexer": "ipython3",
   "version": "3.5.3"
  }
 },
 "nbformat": 4,
 "nbformat_minor": 4
}
