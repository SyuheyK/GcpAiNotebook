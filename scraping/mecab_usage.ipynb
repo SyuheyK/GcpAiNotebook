{
 "cells": [
  {
   "cell_type": "code",
   "execution_count": 2,
   "metadata": {},
   "outputs": [
    {
     "name": "stdout",
     "output_type": "stream",
     "text": [
      "Reading package lists... Done\n",
      "Building dependency tree       \n",
      "Reading state information... Done\n",
      "libmecab-dev is already the newest version (0.996-3.1).\n",
      "mecab is already the newest version (0.996-3.1).\n",
      "mecab-ipadic-utf8 is already the newest version (2.7.0-20070801+main-1).\n",
      "swig is already the newest version (3.0.10-1.1).\n",
      "0 upgraded, 0 newly installed, 0 to remove and 0 not upgraded.\n"
     ]
    }
   ],
   "source": [
    "!sudo apt-get install -y mecab libmecab-dev mecab-ipadic-utf8 swig\n",
    "\n",
    "import sys\n",
    "import MeCab"
   ]
  },
  {
   "cell_type": "code",
   "execution_count": 4,
   "metadata": {},
   "outputs": [
    {
     "name": "stdout",
     "output_type": "stream",
     "text": [
      "きゃりーぱみゅぱみゅ\tキャリーパミュパミュ\tきゃりーぱみゅぱみゅ\t名詞-固有名詞-人名-一般\t\t\n",
      "EOS\n",
      "\n",
      "すもももももももものうち\tスモモモモモモモモノウチ\tすもももももももものうち\t名詞-固有名詞-一般\t\t\n",
      "EOS\n",
      "\n"
     ]
    }
   ],
   "source": [
    "m = MeCab.Tagger (\"-Ochasen\")\n",
    "print(m.parse (\"きゃりーぱみゅぱみゅ\"))\n",
    "print(m.parse (\"すもももももももものうち\"))"
   ]
  },
  {
   "cell_type": "code",
   "execution_count": null,
   "metadata": {},
   "outputs": [],
   "source": []
  }
 ],
 "metadata": {
  "kernelspec": {
   "display_name": "Python 3",
   "language": "python",
   "name": "python3"
  },
  "language_info": {
   "codemirror_mode": {
    "name": "ipython",
    "version": 3
   },
   "file_extension": ".py",
   "mimetype": "text/x-python",
   "name": "python",
   "nbconvert_exporter": "python",
   "pygments_lexer": "ipython3",
   "version": "3.5.3"
  }
 },
 "nbformat": 4,
 "nbformat_minor": 4
}
