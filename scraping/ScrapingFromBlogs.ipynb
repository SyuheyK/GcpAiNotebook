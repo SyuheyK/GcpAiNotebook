{
 "cells": [
  {
   "cell_type": "markdown",
   "metadata": {},
   "source": [
    "# Preparation"
   ]
  },
  {
   "cell_type": "code",
   "execution_count": 2,
   "metadata": {},
   "outputs": [
    {
     "name": "stdout",
     "output_type": "stream",
     "text": [
      "Defaulting to user installation because normal site-packages is not writeable\n",
      "Collecting requests\n",
      "  Downloading requests-2.22.0-py2.py3-none-any.whl (57 kB)\n",
      "\u001b[K     |████████████████████████████████| 57 kB 983 kB/s eta 0:00:01\n",
      "\u001b[?25hCollecting chardet<3.1.0,>=3.0.2\n",
      "  Using cached chardet-3.0.4-py2.py3-none-any.whl (133 kB)\n",
      "Collecting idna<2.9,>=2.5\n",
      "  Using cached idna-2.8-py2.py3-none-any.whl (58 kB)\n",
      "Collecting urllib3!=1.25.0,!=1.25.1,<1.26,>=1.21.1\n",
      "  Downloading urllib3-1.25.8-py2.py3-none-any.whl (125 kB)\n",
      "\u001b[K     |████████████████████████████████| 125 kB 1.6 MB/s eta 0:00:01\n",
      "\u001b[?25hCollecting certifi>=2017.4.17\n",
      "  Downloading certifi-2019.11.28-py2.py3-none-any.whl (156 kB)\n",
      "\u001b[K     |████████████████████████████████| 156 kB 1.7 MB/s eta 0:00:01\n",
      "\u001b[?25hInstalling collected packages: chardet, idna, urllib3, certifi, requests\n",
      "\u001b[33m  WARNING: The script chardetect is installed in '/Users/syuheyk/Library/Python/3.7/bin' which is not on PATH.\n",
      "  Consider adding this directory to PATH or, if you prefer to suppress this warning, use --no-warn-script-location.\u001b[0m\n",
      "Successfully installed certifi-2019.11.28 chardet-3.0.4 idna-2.8 requests-2.22.0 urllib3-1.25.8\n",
      "Defaulting to user installation because normal site-packages is not writeable\n",
      "Collecting beautifulsoup4\n",
      "  Downloading beautifulsoup4-4.8.2-py3-none-any.whl (106 kB)\n",
      "\u001b[K     |████████████████████████████████| 106 kB 1.4 MB/s eta 0:00:01\n",
      "\u001b[?25hCollecting soupsieve>=1.2\n",
      "  Downloading soupsieve-1.9.5-py2.py3-none-any.whl (33 kB)\n",
      "Installing collected packages: soupsieve, beautifulsoup4\n",
      "Successfully installed beautifulsoup4-4.8.2 soupsieve-1.9.5\n",
      "Defaulting to user installation because normal site-packages is not writeable\n",
      "Collecting lxml\n",
      "  Downloading lxml-4.4.2-cp37-cp37m-macosx_10_6_intel.macosx_10_9_intel.macosx_10_9_x86_64.macosx_10_10_intel.macosx_10_10_x86_64.whl (8.8 MB)\n",
      "\u001b[K     |████████████████████████████████| 8.8 MB 3.4 MB/s eta 0:00:01     |████▌                           | 1.2 MB 2.0 MB/s eta 0:00:04\n",
      "\u001b[?25hInstalling collected packages: lxml\n",
      "Successfully installed lxml-4.4.2\n"
     ]
    }
   ],
   "source": [
    "!pip3 install requests\n",
    "!pip3 install beautifulsoup4\n",
    "!pip3 install lxml"
   ]
  },
  {
   "cell_type": "code",
   "execution_count": 3,
   "metadata": {},
   "outputs": [],
   "source": [
    "import pytz\n",
    "import certifi\n",
    "import urllib.request\n",
    "import requests\n",
    "import json\n",
    "from bs4 import BeautifulSoup\n",
    "# urlopen error [SSL: CERTIFICATE_VERIFY_FAILED]を回避\n",
    "import ssl\n",
    "ssl._create_default_https_context = ssl._create_unverified_context"
   ]
  },
  {
   "cell_type": "markdown",
   "metadata": {},
   "source": [
    "# make class\n",
    "\n",
    "### TODO\n",
    "- 変数を整理する\n",
    "- 変数・メソッドのpublic，privateを整理する\n",
    "- urlリスト作成のクラスも作る"
   ]
  },
  {
   "cell_type": "code",
   "execution_count": 4,
   "metadata": {},
   "outputs": [],
   "source": [
    "class single_entry:\n",
    "    def __init__(self, inUrl):\n",
    "        self.title_tag = \"\"\n",
    "        self.title_class = \"\"\n",
    "        self.date_tag = \"\"\n",
    "        self.date_class = \"\"\n",
    "        self.body_tag = \"\"\n",
    "        self.body_class = \"\"\n",
    "        self.__isReady = False\n",
    "        self.__url = inUrl\n",
    "        self.__title = \"\"\n",
    "        self.__date = \"\"\n",
    "        self.__body = \"\"\n",
    "    \n",
    "    def SetURL(self, inUrl):\n",
    "        self.__url = inUrl\n",
    "        self.__isReady = False        \n",
    "    \n",
    "    def __GetReady(self):\n",
    "        soup = BeautifulSoup(urllib.request.urlopen(self.__url), \"html.parser\")\n",
    "        self.__title = soup.find(self.title_tag, class_=self.title_class).text\n",
    "        self.__date = soup.find(self.date_tag, class_=self.date_class).text\n",
    "        self.__body = soup.find(self.body_tag, class_=self.body_class).text\n",
    "        self.__isReady = True\n",
    "    \n",
    "    def GetTitle(self):\n",
    "        if self.__isReady == False:\n",
    "            self.__GetReady()\n",
    "        return self.__title\n",
    "    \n",
    "    def GetDate(self):\n",
    "        if self.__isReady == False:\n",
    "            self.__GetReady()\n",
    "        return self.__date\n",
    "    \n",
    "    def GetBody(self):\n",
    "        if self.__isReady == False:\n",
    "            self.__GetReady()\n",
    "        return self.__body\n",
    "    \n",
    "    def GetAll(self):\n",
    "        if self.__isReady == False:\n",
    "            self.__GetReady()\n",
    "        return self.__title, self.__date, self.__body"
   ]
  },
  {
   "cell_type": "markdown",
   "metadata": {},
   "source": [
    "# Get contents"
   ]
  },
  {
   "cell_type": "code",
   "execution_count": 5,
   "metadata": {},
   "outputs": [],
   "source": [
    "max_page = 5\n",
    "entry_list = []\n",
    "url_list = []\n",
    "\n",
    "for lPage in range(1, max_page + 1):\n",
    "    url = \"https://www.zerbino.info/blog/page/\" + str(lPage)\n",
    "    soup = BeautifulSoup(urllib.request.urlopen(url), \"html.parser\")\n",
    "    entry_list.extend(soup.find_all(\"h2\", class_=\"entry-title\"))\n",
    "\n",
    "for entry in entry_list:\n",
    "    url_list.append(entry.find(\"a\").get(\"href\"))"
   ]
  },
  {
   "cell_type": "code",
   "execution_count": 7,
   "metadata": {},
   "outputs": [
    {
     "name": "stdout",
     "output_type": "stream",
     "text": [
      "\n",
      "武骨な靴はいかがですか？\n",
      "\n",
      "\n",
      "国内ブランドGALLERIANT bussiness card case\n",
      "\n",
      "\n",
      "カジュアルシューズも高級感のあるものを。\n",
      "\n",
      "\n",
      "着心地の良いカーディガン\n",
      "\n",
      "\n",
      "【重要なお知らせ】2/2（日）ビル休館日による新宿店休業日のお知らせ\n",
      "\n",
      "\n",
      "ドレスシャツ\n",
      "\n",
      "\n",
      "2020SSネクタイのご紹介 ~国産~\n",
      "\n",
      "\n",
      "普通の黒無地ではありません・・・\n",
      "\n",
      "\n",
      "ドレスもカジュアルも\n",
      "\n",
      "\n",
      "シューズと御一緒に\n",
      "\n",
      "\n",
      "宮城興業和創良靴日記　～MD、Vチップ～\n",
      "\n",
      "\n",
      "シルク混は合わせ方が大事です。\n",
      "\n",
      "\n",
      "楽しい裏地の世界\n",
      "\n",
      "\n",
      "歴代のLEON Snapが揃いました！\n",
      "\n",
      "\n",
      "鎧のようですが、、、\n",
      "\n",
      "\n",
      "宮城興業和創良靴日記　～ダブルモンク～\n",
      "\n",
      "\n",
      "今回はクラシックな一足をご紹介\n",
      "\n",
      "\n",
      "SAMUEL TWEEDもセール対象です！！\n",
      "\n",
      "\n",
      "HIELDカシミヤジャケット\n",
      "\n",
      "\n",
      "鮮やかさと光沢といえばロロピアーナ\n",
      "\n",
      "\n",
      "お得なネクタイ\n",
      "\n",
      "\n",
      "一目見て分かる高級感\n",
      "\n",
      "\n",
      "クレリックが正解\n",
      "\n",
      "\n",
      "白黒もいいですが白茶も素敵です。\n",
      "\n",
      "\n",
      "色気のあるカーキフランネルはいかがでしょうか？\n",
      "\n"
     ]
    }
   ],
   "source": [
    "entry_zerbino = single_entry(\"\")\n",
    "entry_zerbino.title_tag = \"h2\"\n",
    "entry_zerbino.title_class = \"entry-title\"\n",
    "entry_zerbino.date_tag = \"span\"\n",
    "entry_zerbino.date_class = \"entry-date\"\n",
    "entry_zerbino.body_tag = \"div\"\n",
    "entry_zerbino.body_class = \"entry-body\"\n",
    "\n",
    "title_list = []\n",
    "date_list = []\n",
    "body_list = []\n",
    "\n",
    "for lUrl in url_list:\n",
    "    entry_zerbino.SetURL(lUrl)\n",
    "    ltitle, ldate, lbody = entry_zerbino.GetAll()\n",
    "    title_list.append(ltitle)\n",
    "    date_list.append(ldate)\n",
    "    body_list.append(lbody)"
   ]
  },
  {
   "cell_type": "code",
   "execution_count": null,
   "metadata": {},
   "outputs": [],
   "source": []
  },
  {
   "cell_type": "code",
   "execution_count": null,
   "metadata": {},
   "outputs": [],
   "source": []
  },
  {
   "cell_type": "code",
   "execution_count": null,
   "metadata": {},
   "outputs": [],
   "source": []
  }
 ],
 "metadata": {
  "kernelspec": {
   "display_name": "Python 3",
   "language": "python",
   "name": "python3"
  },
  "language_info": {
   "codemirror_mode": {
    "name": "ipython",
    "version": 3
   },
   "file_extension": ".py",
   "mimetype": "text/x-python",
   "name": "python",
   "nbconvert_exporter": "python",
   "pygments_lexer": "ipython3",
   "version": "3.7.3"
  }
 },
 "nbformat": 4,
 "nbformat_minor": 4
}
