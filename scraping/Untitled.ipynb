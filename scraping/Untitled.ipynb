{
 "cells": [
  {
   "cell_type": "markdown",
   "metadata": {},
   "source": [
    "## データ取得"
   ]
  },
  {
   "cell_type": "code",
   "execution_count": 1,
   "metadata": {},
   "outputs": [],
   "source": [
    "import pytz\n",
    "import certifi\n",
    "import urllib.request\n",
    "import requests\n",
    "import json\n",
    "from bs4 import BeautifulSoup\n",
    "# urlopen error [SSL: CERTIFICATE_VERIFY_FAILED]を回避\n",
    "import ssl\n",
    "ssl._create_default_https_context = ssl._create_unverified_context"
   ]
  },
  {
   "cell_type": "code",
   "execution_count": 8,
   "metadata": {},
   "outputs": [
    {
     "name": "stdout",
     "output_type": "stream",
     "text": [
      "普通の黒無地ではありません・・・\n",
      "英国「バルマー＆ラム」のモヘア100％黒無地。 昨今の春夏は英国調の流れから ヘビーウェイトのしっかりした生地が人気で、 モヘア混もその一つです。\n",
      "https://www.zerbino.info/wp/wp-content/uploads/2020/01/4003c10daad86ae0cf87c548aa7f54ca.jpg\n"
     ]
    }
   ],
   "source": [
    "local_url = \"https://www.zerbino.info/blog/2020/01/29287.html\"\n",
    "soup = BeautifulSoup(urllib.request.urlopen(local_url), \"html.parser\")\n",
    "\n",
    "title = soup.find('meta', attrs={'name': 'twitter:title'}).get(\"content\")\n",
    "desc = soup.find('meta', attrs={'name': 'twitter:description'}).get(\"content\")\n",
    "image = soup.find('meta', attrs={'name': 'twitter:image'}).get(\"content\")\n",
    "print(title + '\\n' + desc + '\\n' + image)"
   ]
  },
  {
   "cell_type": "markdown",
   "metadata": {},
   "source": [
    "## テキスト処理"
   ]
  },
  {
   "cell_type": "code",
   "execution_count": 12,
   "metadata": {},
   "outputs": [
    {
     "name": "stdout",
     "output_type": "stream",
     "text": [
      " , *\n",
      "英国 , 固有名詞\n",
      "「 , 括弧開\n",
      "バルマー＆ラム , 一般\n",
      "」 , 括弧閉\n",
      "の , 連体化\n",
      "モヘア , 一般\n",
      "100％ , 固有名詞\n",
      "黒 , 一般\n",
      "無地 , 一般\n",
      "。 , 句点\n",
      "昨今 , 副詞可能\n",
      "の , 連体化\n",
      "春夏 , 固有名詞\n",
      "は , 係助詞\n",
      "英国 , 固有名詞\n",
      "調 , 接尾\n",
      "の , 連体化\n",
      "流れ , 一般\n",
      "から , 格助詞\n",
      "ヘビーウェイト , 一般\n",
      "の , 連体化\n",
      "しっかり , 助詞類接続\n",
      "し , 自立\n",
      "た , *\n",
      "生地 , 一般\n",
      "が , 格助詞\n",
      "人気 , 一般\n",
      "で , 格助詞\n",
      "、 , 読点\n",
      "モヘア , 一般\n",
      "混も , 自立\n",
      "その , *\n",
      "一つ , 一般\n",
      "です , *\n",
      "。 , 句点\n",
      " , *\n"
     ]
    }
   ],
   "source": [
    "import MeCab\n",
    "\n",
    "mecab = MeCab.Tagger ('-d /usr/local/lib/mecab/dic/mecab-ipadic-neologd -u /usr/local/lib/mecab/dic/userdic/tailoring.dic')\n",
    "\n",
    "mecab.parse('')#文字列がGCさcdれるのを防ぐ\n",
    "node = mecab.parseToNode(desc)\n",
    "while node:\n",
    "    #単語を取得\n",
    "    word = node.surface\n",
    "    #品詞を取得\n",
    "    pos = node.feature.split(\",\")[1]\n",
    "    print('{0} , {1}'.format(word, pos))\n",
    "    #次の単語に進める\n",
    "    node = node.next"
   ]
  },
  {
   "cell_type": "code",
   "execution_count": 4,
   "metadata": {},
   "outputs": [
    {
     "name": "stdout",
     "output_type": "stream",
     "text": [
      "英国\t名詞,固有名詞,地域,国,*,*,英国,エイコク,エイコク\n",
      "「\t記号,括弧開,*,*,*,*,「,「,「\n",
      "バルマー\t名詞,固有名詞,一般,*,*,*,バルマー,バルマー,バルマー\n",
      "＆\t記号,一般,*,*,*,*,＆,アンド,アンド\n",
      "ラム\t名詞,一般,*,*,*,*,ラム,ラム,ラム\n",
      "」\t記号,括弧閉,*,*,*,*,」,」,」\n",
      "の\t助詞,連体化,*,*,*,*,の,ノ,ノ\n",
      "モヘア\t名詞,一般,*,*,*,*,モヘア,モヘア,モヘア\n",
      "100％\t名詞,固有名詞,一般,*,*,*,100%,ヒャクパーセント,ヒャクパーセント\n",
      "黒\t名詞,一般,*,*,*,*,黒,クロ,クロ\n",
      "無地\t名詞,一般,*,*,*,*,無地,ムジ,ムジ\n",
      "。\t記号,句点,*,*,*,*,。,。,。\n",
      "昨今\t名詞,副詞可能,*,*,*,*,昨今,サッコン,サッコン\n",
      "の\t助詞,連体化,*,*,*,*,の,ノ,ノ\n",
      "春夏\t名詞,固有名詞,人名,名,*,*,春夏,ハナ,ハナ\n",
      "は\t助詞,係助詞,*,*,*,*,は,ハ,ワ\n",
      "英国\t名詞,固有名詞,地域,国,*,*,英国,エイコク,エイコク\n",
      "調\t名詞,接尾,一般,*,*,*,調,チョウ,チョー\n",
      "の\t助詞,連体化,*,*,*,*,の,ノ,ノ\n",
      "流れ\t名詞,一般,*,*,*,*,流れ,ナガレ,ナガレ\n",
      "から\t助詞,格助詞,一般,*,*,*,から,カラ,カラ\n",
      "ヘビーウェイト\t名詞,一般,*,*,*,*,*\n",
      "の\t助詞,連体化,*,*,*,*,の,ノ,ノ\n",
      "しっかり\t副詞,助詞類接続,*,*,*,*,しっかり,シッカリ,シッカリ\n",
      "し\t動詞,自立,*,*,サ変・スル,連用形,する,シ,シ\n",
      "た\t助動詞,*,*,*,特殊・タ,基本形,た,タ,タ\n",
      "生地\t名詞,一般,*,*,*,*,生地,キジ,キジ\n",
      "が\t助詞,格助詞,一般,*,*,*,が,ガ,ガ\n",
      "人気\t名詞,一般,*,*,*,*,人気,ニンキ,ニンキ\n",
      "で\t助詞,格助詞,一般,*,*,*,で,デ,デ\n",
      "、\t記号,読点,*,*,*,*,、,、,、\n",
      "モヘア\t名詞,一般,*,*,*,*,モヘア,モヘア,モヘア\n",
      "混も\t動詞,自立,*,*,五段・マ行,未然ウ接続,混む,コモ,コモ\n",
      "その\t連体詞,*,*,*,*,*,その,ソノ,ソノ\n",
      "一つ\t名詞,一般,*,*,*,*,一つ,ヒトツ,ヒトツ\n",
      "です\t助動詞,*,*,*,特殊・デス,基本形,です,デス,デス\n",
      "。\t記号,句点,*,*,*,*,。,。,。\n",
      "EOS\n",
      "\n"
     ]
    }
   ],
   "source": [
    "print(mecab.parse(desc))"
   ]
  },
  {
   "cell_type": "code",
   "execution_count": 12,
   "metadata": {},
   "outputs": [
    {
     "data": {
      "text/plain": [
       "'バルマー＆ラム,,,1,名詞,一般,*,*,*,*,バルマー＆ラム,バルマー＆ラム,バルマー＆ラム'"
      ]
     },
     "execution_count": 12,
     "metadata": {},
     "output_type": "execute_result"
    }
   ],
   "source": []
  },
  {
   "cell_type": "code",
   "execution_count": 5,
   "metadata": {},
   "outputs": [],
   "source": [
    "import csv\n",
    " \n",
    "try:\n",
    "    with open('tailoring_dic.csv', 'w') as csvfile:\n",
    "        writer = csv.writer(csvfile, lineterminator='\\n')\n",
    "        writer.writerow(['バルマー＆ラム','','','1','名詞','一般','*','*','*','*','バルマー＆ラム','バルマー＆ラム','バルマー＆ラム'])\n",
    "\n",
    "except FileNotFoundError as e:    print(e)\n",
    "except csv.Error as e:    print(e)"
   ]
  },
  {
   "cell_type": "code",
   "execution_count": 7,
   "metadata": {},
   "outputs": [
    {
     "name": "stdout",
     "output_type": "stream",
     "text": [
      "バルマー＆ラム,,,1,名詞,一般,*,*,*,*,バルマー＆ラム,バルマー＆ラム,バルマー＆ラム\n"
     ]
    }
   ],
   "source": [
    "try:\n",
    "    # utf-8 のCSVファイル\n",
    "    with open('tailoring_dic.csv', 'r') as csvfile:\n",
    "        csv_reader = csv.reader(csvfile, delimiter=',', quotechar='\"')\n",
    "        for row in csv_reader:\n",
    "            # print(row)\n",
    "            print(','.join(row))\n",
    "\n",
    "except FileNotFoundError as e:    print(e)\n",
    "except csv.Error as e:    print(e)"
   ]
  },
  {
   "cell_type": "code",
   "execution_count": null,
   "metadata": {},
   "outputs": [],
   "source": []
  }
 ],
 "metadata": {
  "kernelspec": {
   "display_name": "Python 3",
   "language": "python",
   "name": "python3"
  },
  "language_info": {
   "codemirror_mode": {
    "name": "ipython",
    "version": 3
   },
   "file_extension": ".py",
   "mimetype": "text/x-python",
   "name": "python",
   "nbconvert_exporter": "python",
   "pygments_lexer": "ipython3",
   "version": "3.7.3"
  }
 },
 "nbformat": 4,
 "nbformat_minor": 4
}
