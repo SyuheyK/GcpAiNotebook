{
 "cells": [
  {
   "cell_type": "code",
   "execution_count": 4,
   "metadata": {},
   "outputs": [
    {
     "name": "stdout",
     "output_type": "stream",
     "text": [
      "Collecting feedparser\n",
      "  Using cached https://files.pythonhosted.org/packages/91/d8/7d37fec71ff7c9dbcdd80d2b48bcdd86d6af502156fc93846fb0102cb2c4/feedparser-5.2.1.tar.bz2\n",
      "Building wheels for collected packages: feedparser\n",
      "  Running setup.py bdist_wheel for feedparser ... \u001b[?25ldone\n",
      "\u001b[?25h  Stored in directory: /home/jupyter/.cache/pip/wheels/8c/69/b7/f52763c41c5471df57703a0ef718a32a5e81ee35dcf6d4f97f\n",
      "Successfully built feedparser\n",
      "Installing collected packages: feedparser\n",
      "Successfully installed feedparser-5.2.1\n"
     ]
    }
   ],
   "source": [
    "# https://note.nkmk.me/python-feedparser-tutorial/\n",
    "!pip3 install feedparser"
   ]
  },
  {
   "cell_type": "code",
   "execution_count": 1,
   "metadata": {},
   "outputs": [
    {
     "name": "stdout",
     "output_type": "stream",
     "text": [
      "5.2.1\n"
     ]
    }
   ],
   "source": [
    "import feedparser\n",
    "import pprint\n",
    "import time\n",
    "\n",
    "print(feedparser.__version__)"
   ]
  },
  {
   "cell_type": "code",
   "execution_count": 7,
   "metadata": {},
   "outputs": [
    {
     "name": "stdout",
     "output_type": "stream",
     "text": [
      "<class 'feedparser.FeedParserDict'>\n"
     ]
    }
   ],
   "source": [
    "d_atom = feedparser.parse('https://www.zerbino.info/feed')\n",
    "\n",
    "print(type(d_atom))"
   ]
  },
  {
   "cell_type": "code",
   "execution_count": 8,
   "metadata": {},
   "outputs": [
    {
     "name": "stdout",
     "output_type": "stream",
     "text": [
      "{'bozo': 0,\n",
      " 'encoding': 'UTF-8',\n",
      " 'entries': [...],\n",
      " 'etag': '\"874fa185005481a28625a6e11972c996\"',\n",
      " 'feed': {...},\n",
      " 'headers': {...},\n",
      " 'href': 'https://www.zerbino.info/feed',\n",
      " 'namespaces': {...},\n",
      " 'status': 200,\n",
      " 'updated': 'Thu, 12 Dec 2019 02:00:15 GMT',\n",
      " 'updated_parsed': time.struct_time(tm_year=2019, tm_mon=12, tm_mday=12, tm_hour=2, tm_min=0, tm_sec=15, tm_wday=3, tm_yday=346, tm_isdst=0),\n",
      " 'version': 'rss20'}\n"
     ]
    }
   ],
   "source": [
    "pprint.pprint(d_atom, depth=1)"
   ]
  },
  {
   "cell_type": "code",
   "execution_count": null,
   "metadata": {},
   "outputs": [],
   "source": []
  }
 ],
 "metadata": {
  "kernelspec": {
   "display_name": "Python 3",
   "language": "python",
   "name": "python3"
  },
  "language_info": {
   "codemirror_mode": {
    "name": "ipython",
    "version": 3
   },
   "file_extension": ".py",
   "mimetype": "text/x-python",
   "name": "python",
   "nbconvert_exporter": "python",
   "pygments_lexer": "ipython3",
   "version": "3.5.3"
  }
 },
 "nbformat": 4,
 "nbformat_minor": 4
}
