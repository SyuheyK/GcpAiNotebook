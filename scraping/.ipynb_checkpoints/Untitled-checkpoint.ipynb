{
 "cells": [
  {
   "cell_type": "markdown",
   "metadata": {},
   "source": [
    "## データ取得"
   ]
  },
  {
   "cell_type": "code",
   "execution_count": 17,
   "metadata": {},
   "outputs": [],
   "source": [
    "import pytz\n",
    "import certifi\n",
    "import urllib.request\n",
    "import requests\n",
    "import json\n",
    "from bs4 import BeautifulSoup\n",
    "# urlopen error [SSL: CERTIFICATE_VERIFY_FAILED]を回避\n",
    "import ssl\n",
    "ssl._create_default_https_context = ssl._create_unverified_context"
   ]
  },
  {
   "cell_type": "code",
   "execution_count": 55,
   "metadata": {},
   "outputs": [
    {
     "name": "stdout",
     "output_type": "stream",
     "text": [
      "普通の黒無地ではありません・・・\n",
      "英国「バルマー＆ラム」のモヘア100％黒無地。 昨今の春夏は英国調の流れから ヘビーウェイトのしっかりした生地が人気で、 モヘア混もその一つです。\n",
      "https://www.zerbino.info/wp/wp-content/uploads/2020/01/4003c10daad86ae0cf87c548aa7f54ca.jpg\n"
     ]
    }
   ],
   "source": [
    "local_url = \"https://www.zerbino.info/blog/2020/01/29287.html\"\n",
    "soup = BeautifulSoup(urllib.request.urlopen(local_url), \"html.parser\")\n",
    "\n",
    "title = soup.find('meta', attrs={'name': 'twitter:title'}).get(\"content\")\n",
    "desc = soup.find('meta', attrs={'name': 'twitter:description'}).get(\"content\")\n",
    "image = soup.find('meta', attrs={'name': 'twitter:image'}).get(\"content\")\n",
    "print(title + '\\n' + desc + '\\n' + image)"
   ]
  },
  {
   "cell_type": "markdown",
   "metadata": {},
   "source": [
    "## テキスト処理"
   ]
  },
  {
   "cell_type": "code",
   "execution_count": 56,
   "metadata": {},
   "outputs": [
    {
     "ename": "SyntaxError",
     "evalue": "invalid syntax (<ipython-input-56-0ed9a05733b1>, line 12)",
     "output_type": "error",
     "traceback": [
      "\u001b[0;36m  File \u001b[0;32m\"<ipython-input-56-0ed9a05733b1>\"\u001b[0;36m, line \u001b[0;32m12\u001b[0m\n\u001b[0;31m    if\u001b[0m\n\u001b[0m       ^\u001b[0m\n\u001b[0;31mSyntaxError\u001b[0m\u001b[0;31m:\u001b[0m invalid syntax\n"
     ]
    }
   ],
   "source": [
    "import MeCab\n",
    "\n",
    "mecab = MeCab.Tagger ('-d /usr/local/lib/mecab/dic/mecab-ipadic-neologd -u /usr/local/lib/mecab/dic/userdic/tailoring.dic')\n",
    "\n",
    "mecab.parse('')#文字列がGCされるのを防ぐ\n",
    "node = mecab.parseToNode(desc)\n",
    "while node:\n",
    "    #単語を取得\n",
    "    word = node.surface\n",
    "    #品詞を取得\n",
    "    pos = node.feature.split(\",\")[1]\n",
    "    if \n",
    "        print('{0} , {1}'.format(word, pos))\n",
    "    #次の単語に進める\n",
    "    node = node.next"
   ]
  },
  {
   "cell_type": "code",
   "execution_count": 78,
   "metadata": {},
   "outputs": [
    {
     "name": "stdout",
     "output_type": "stream",
     "text": [
      "名詞|固有名詞|地域|国|*|*|英国|エイコク|エイコク\n",
      "名詞|一般|*|*|*|*|バルマー＆ラム|バルマー＆ラム|バルマー＆ラム\n",
      "名詞|一般|*|*|*|*|モヘア|モヘア|モヘア\n",
      "名詞|固有名詞|一般|*|*|*|100%|ヒャクパーセント|ヒャクパーセント\n",
      "名詞|一般|*|*|*|*|黒|クロ|クロ\n",
      "名詞|一般|*|*|*|*|無地|ムジ|ムジ\n",
      "名詞|固有名詞|人名|名|*|*|春夏|ハナ|ハナ\n",
      "名詞|固有名詞|地域|国|*|*|英国|エイコク|エイコク\n",
      "名詞|一般|*|*|*|*|流れ|ナガレ|ナガレ\n"
     ]
    },
    {
     "ename": "IndexError",
     "evalue": "list index out of range",
     "output_type": "error",
     "traceback": [
      "\u001b[0;31m---------------------------------------------------------------------------\u001b[0m",
      "\u001b[0;31mIndexError\u001b[0m                                Traceback (most recent call last)",
      "\u001b[0;32m<ipython-input-78-b1be9024c58b>\u001b[0m in \u001b[0;36m<module>\u001b[0;34m\u001b[0m\n\u001b[1;32m     11\u001b[0m         \u001b[0;31m#名詞を取り出す\u001b[0m\u001b[0;34m\u001b[0m\u001b[0;34m\u001b[0m\u001b[0;34m\u001b[0m\u001b[0m\n\u001b[1;32m     12\u001b[0m         \u001b[0mmeisi\u001b[0m\u001b[0;34m.\u001b[0m\u001b[0mappend\u001b[0m\u001b[0;34m(\u001b[0m\u001b[0marr\u001b[0m\u001b[0;34m[\u001b[0m\u001b[0;36m6\u001b[0m\u001b[0;34m]\u001b[0m\u001b[0;34m)\u001b[0m\u001b[0;34m\u001b[0m\u001b[0;34m\u001b[0m\u001b[0m\n\u001b[0;32m---> 13\u001b[0;31m         \u001b[0mprint\u001b[0m\u001b[0;34m(\u001b[0m\u001b[0marr\u001b[0m\u001b[0;34m[\u001b[0m\u001b[0;36m0\u001b[0m\u001b[0;34m]\u001b[0m \u001b[0;34m+\u001b[0m \u001b[0;34m'|'\u001b[0m \u001b[0;34m+\u001b[0m \u001b[0marr\u001b[0m\u001b[0;34m[\u001b[0m\u001b[0;36m1\u001b[0m\u001b[0;34m]\u001b[0m \u001b[0;34m+\u001b[0m \u001b[0;34m'|'\u001b[0m \u001b[0;34m+\u001b[0m \u001b[0marr\u001b[0m\u001b[0;34m[\u001b[0m\u001b[0;36m2\u001b[0m\u001b[0;34m]\u001b[0m \u001b[0;34m+\u001b[0m \u001b[0;34m'|'\u001b[0m \u001b[0;34m+\u001b[0m \u001b[0marr\u001b[0m\u001b[0;34m[\u001b[0m\u001b[0;36m3\u001b[0m\u001b[0;34m]\u001b[0m \u001b[0;34m+\u001b[0m \u001b[0;34m'|'\u001b[0m \u001b[0;34m+\u001b[0m \u001b[0marr\u001b[0m\u001b[0;34m[\u001b[0m\u001b[0;36m4\u001b[0m\u001b[0;34m]\u001b[0m \u001b[0;34m+\u001b[0m \u001b[0;34m'|'\u001b[0m \u001b[0;34m+\u001b[0m \u001b[0marr\u001b[0m\u001b[0;34m[\u001b[0m\u001b[0;36m5\u001b[0m\u001b[0;34m]\u001b[0m \u001b[0;34m+\u001b[0m \u001b[0;34m'|'\u001b[0m \u001b[0;34m+\u001b[0m \u001b[0marr\u001b[0m\u001b[0;34m[\u001b[0m\u001b[0;36m6\u001b[0m\u001b[0;34m]\u001b[0m \u001b[0;34m+\u001b[0m \u001b[0;34m'|'\u001b[0m \u001b[0;34m+\u001b[0m \u001b[0marr\u001b[0m\u001b[0;34m[\u001b[0m\u001b[0;36m7\u001b[0m\u001b[0;34m]\u001b[0m \u001b[0;34m+\u001b[0m \u001b[0;34m'|'\u001b[0m \u001b[0;34m+\u001b[0m \u001b[0marr\u001b[0m\u001b[0;34m[\u001b[0m\u001b[0;36m8\u001b[0m\u001b[0;34m]\u001b[0m\u001b[0;34m)\u001b[0m\u001b[0;34m\u001b[0m\u001b[0;34m\u001b[0m\u001b[0m\n\u001b[0m\u001b[1;32m     14\u001b[0m     \u001b[0;32melif\u001b[0m \u001b[0;34m(\u001b[0m\u001b[0marr\u001b[0m\u001b[0;34m[\u001b[0m\u001b[0;36m0\u001b[0m\u001b[0;34m]\u001b[0m \u001b[0;34m==\u001b[0m \u001b[0;34m\"動詞\"\u001b[0m\u001b[0;34m)\u001b[0m\u001b[0;34m:\u001b[0m\u001b[0;34m\u001b[0m\u001b[0;34m\u001b[0m\u001b[0m\n\u001b[1;32m     15\u001b[0m         \u001b[0;31m#動詞の原型を取り出す\u001b[0m\u001b[0;34m\u001b[0m\u001b[0;34m\u001b[0m\u001b[0;34m\u001b[0m\u001b[0m\n",
      "\u001b[0;31mIndexError\u001b[0m: list index out of range"
     ]
    }
   ],
   "source": [
    "#print(mecab.parse(desc))\n",
    "\n",
    "desc_parsed = mecab.parseToNode(desc)\n",
    "meisi=[]\n",
    "dousi=[]\n",
    "\n",
    "while  desc_parsed:\n",
    "    arr = desc_parsed.feature.split(\",\")\n",
    "    \n",
    "    if ((arr[0] == \"名詞\") and (arr[1] == \"固有名詞\" or arr[1] == \"一般\") ):\n",
    "        #名詞を取り出す\n",
    "        meisi.append(arr[6])\n",
    "        print(arr[0] + '|' + arr[1] + '|' + arr[2] + '|' + arr[3] + '|' + arr[4] + '|' + arr[5] + '|' + arr[6] + '|' + arr[7] + '|' + arr[8])\n",
    "    elif (arr[0] == \"動詞\"):\n",
    "        #動詞の原型を取り出す\n",
    "        dousi.append(arr[6])\n",
    "        print(arr[6])\n",
    "    \n",
    "    desc_parsed = desc_parsed.next"
   ]
  },
  {
   "cell_type": "code",
   "execution_count": 12,
   "metadata": {},
   "outputs": [
    {
     "data": {
      "text/plain": [
       "'バルマー＆ラム,,,1,名詞,一般,*,*,*,*,バルマー＆ラム,バルマー＆ラム,バルマー＆ラム'"
      ]
     },
     "execution_count": 12,
     "metadata": {},
     "output_type": "execute_result"
    }
   ],
   "source": []
  },
  {
   "cell_type": "code",
   "execution_count": 72,
   "metadata": {},
   "outputs": [],
   "source": [
    "import csv\n",
    " \n",
    "try:\n",
    "    with open('tailoring_dic.csv', 'w') as csvfile:\n",
    "        writer = csv.writer(csvfile, lineterminator='\\n')\n",
    "        writer.writerow(['バルマー＆ラム','','','1','名詞','一般','*','*','*','*','バルマー＆ラム','バルマー＆ラム','バルマー＆ラム','服飾情報','生地'])\n",
    "\n",
    "except FileNotFoundError as e:    print(e)\n",
    "except csv.Error as e:    print(e)"
   ]
  },
  {
   "cell_type": "code",
   "execution_count": 73,
   "metadata": {},
   "outputs": [
    {
     "name": "stdout",
     "output_type": "stream",
     "text": [
      "バルマー＆ラム,,,1,名詞,一般,*,*,*,*,バルマー＆ラム,バルマー＆ラム,バルマー＆ラム,服飾情報,生地\n"
     ]
    }
   ],
   "source": [
    "try:\n",
    "    # utf-8 のCSVファイル\n",
    "    with open('tailoring_dic.csv', 'r') as csvfile:\n",
    "        csv_reader = csv.reader(csvfile, delimiter=',', quotechar='\"')\n",
    "        for row in csv_reader:\n",
    "            # print(row)\n",
    "            print(','.join(row))\n",
    "\n",
    "except FileNotFoundError as e:    print(e)\n",
    "except csv.Error as e:    print(e)"
   ]
  },
  {
   "cell_type": "code",
   "execution_count": 22,
   "metadata": {},
   "outputs": [],
   "source": [
    "max_page = 3\n",
    "entry_list = []\n",
    "url_list = []\n",
    "\n",
    "for lPage in range(1, max_page + 1):\n",
    "    url = \"https://www.zerbino.info/blog/page/\" + str(lPage)\n",
    "    soup = BeautifulSoup(urllib.request.urlopen(url), \"html.parser\")\n",
    "    entry_list.extend(soup.find_all(\"h2\", class_=\"entry-title\"))\n",
    "\n",
    "for entry in entry_list:\n",
    "    url_list.append(entry.find(\"a\").get(\"href\"))"
   ]
  },
  {
   "cell_type": "code",
   "execution_count": 52,
   "metadata": {},
   "outputs": [
    {
     "name": "stdout",
     "output_type": "stream",
     "text": [
      "---\n",
      "title: \"武骨な靴はいかがですか？\"\n",
      "sites: \"ZERBINO\" \n",
      "date:2020-01-26T06:00:38Z\n",
      "draft: false\n",
      "---\n",
      "【Model & Size】 MD-11　伝衛門 ステア（Ste10）25.5-E 雨の日にも、カジュアルにも どちらでも楽しめるように 自分のシューズをオーダーしました。 革は厚みがあり、ガシガシ使っても大丈夫なステアの黒で、 歩きやすいMDタイプの木型を使用しました。\n",
      "{{< figure src=\"https://www.zerbino.info/wp/wp-content/uploads/2020/01/7fb764ce5db2c081353e8aa527ec392e.jpg\">}}\n"
     ]
    }
   ],
   "source": [
    "page_num = 1\n",
    "soup = BeautifulSoup(urllib.request.urlopen(url_list[page_num]), \"html.parser\")\n",
    "#<meta property=\"article:published_time\" content=\"2020-01-22T06:00:19Z\">\n",
    "\n",
    "title = soup.find('meta', attrs={'name': 'twitter:title'}).get(\"content\")\n",
    "desc = soup.find('meta', attrs={'name': 'twitter:description'}).get(\"content\")\n",
    "image = soup.find('meta', attrs={'name': 'twitter:image'}).get(\"content\")\n",
    "date = soup.find('meta', attrs={'property': 'article:published_time'}).get(\"content\")\n",
    "# print(title + '\\n' + desc + '\\n' + image + '\\n' + date)\n",
    "# --------\n",
    "text = '---\\n'+'title: \"' + title + '\"\\n' + 'sites: \"ZERBINO\" \\n' + 'date:' + date + '\\n' + 'draft: false\\n'\n",
    "text = text  + '---\\n' + desc + '\\n'\n",
    "text = text + '{{< figure src=\"' + image + '\">}}'\n",
    "print(text)"
   ]
  },
  {
   "cell_type": "code",
   "execution_count": 88,
   "metadata": {},
   "outputs": [
    {
     "name": "stdout",
     "output_type": "stream",
     "text": [
      "20200126\n"
     ]
    }
   ],
   "source": []
  },
  {
   "cell_type": "code",
   "execution_count": 90,
   "metadata": {},
   "outputs": [],
   "source": [
    "file_name = date[:4] + date[5:7] + date[8:10] + '01ZERBINO.md'\n",
    "try:\n",
    "    with open('file_name', 'w') as outputfile:\n",
    "        outputfile.write(text)\n",
    "\n",
    "except FileNotFoundError as e:    print(e)\n",
    "except csv.Error as e:    print(e)"
   ]
  },
  {
   "cell_type": "code",
   "execution_count": null,
   "metadata": {},
   "outputs": [],
   "source": []
  }
 ],
 "metadata": {
  "kernelspec": {
   "display_name": "Python 3",
   "language": "python",
   "name": "python3"
  },
  "language_info": {
   "codemirror_mode": {
    "name": "ipython",
    "version": 3
   },
   "file_extension": ".py",
   "mimetype": "text/x-python",
   "name": "python",
   "nbconvert_exporter": "python",
   "pygments_lexer": "ipython3",
   "version": "3.7.3"
  }
 },
 "nbformat": 4,
 "nbformat_minor": 4
}
