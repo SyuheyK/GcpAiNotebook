{
 "cells": [
  {
   "cell_type": "markdown",
   "metadata": {},
   "source": [
    "# ipafont-gothicの導入\n",
    "以下の `apt-get` コードとその次のfontlistファイルの削除を実行する．"
   ]
  },
  {
   "cell_type": "code",
   "execution_count": 7,
   "metadata": {},
   "outputs": [
    {
     "name": "stdout",
     "output_type": "stream",
     "text": [
      "Reading package lists... Done\n",
      "Building dependency tree       \n",
      "Reading state information... Done\n",
      "fonts-ipafont-gothic is already the newest version (00303-16).\n",
      "0 upgraded, 0 newly installed, 0 to remove and 0 not upgraded.\n",
      "ipafontのインストール完了\n"
     ]
    }
   ],
   "source": [
    "!sudo apt-get -y install fonts-ipafont-gothic\n",
    "print('ipafontのインストール完了')"
   ]
  },
  {
   "cell_type": "code",
   "execution_count": 11,
   "metadata": {},
   "outputs": [
    {
     "name": "stdout",
     "output_type": "stream",
     "text": [
      "sudo rm /home/jupyter/.cache/matplotlib/fontlist-v300.json\n"
     ]
    }
   ],
   "source": [
    "import matplotlib\n",
    "print('sudo rm '+ matplotlib.get_cachedir() + '/fontlist-v300.json')"
   ]
  },
  {
   "cell_type": "markdown",
   "metadata": {},
   "source": [
    "----\n",
    "一度このnotebookのkernelを閉じ，以下のコードを実行し，グラフタイトル等が日本語化されていればOK．"
   ]
  },
  {
   "cell_type": "code",
   "execution_count": 1,
   "metadata": {},
   "outputs": [
    {
     "data": {
      "image/png": "[encoded data removed]",
      "text/plain": [
       "<Figure size 432x288 with 1 Axes>"
      ]
     },
     "metadata": {
      "needs_background": "light"
     },
     "output_type": "display_data"
    }
   ],
   "source": [
    "from matplotlib import rcParams\n",
    "rcParams['font.family'] = 'sans-serif'\n",
    "rcParams['font.sans-serif'] = ['Hiragino Maru Gothic Pro', 'Yu Gothic', 'Meirio', 'Takao', 'IPAexGothic', 'IPAPGothic', 'VL PGothic', 'Noto Sans CJK JP']\n",
    "\n",
    "import matplotlib.pyplot as plt\n",
    "plt.xlabel('横軸')\n",
    "plt.ylabel('縦軸')\n",
    "plt.title('テスト')\n",
    "plt.show()"
   ]
  },
  {
   "cell_type": "markdown",
   "metadata": {},
   "source": [
    "# 参考\n",
    "https://qiita.com/unvavo/items/a907cb927bdadc1d8d0c"
   ]
  }
 ],
 "metadata": {
  "kernelspec": {
   "display_name": "Python 3",
   "language": "python",
   "name": "python3"
  },
  "language_info": {
   "codemirror_mode": {
    "name": "ipython",
    "version": 3
   },
   "file_extension": ".py",
   "mimetype": "text/x-python",
   "name": "python",
   "nbconvert_exporter": "python",
   "pygments_lexer": "ipython3",
   "version": "3.5.3"
  }
 },
 "nbformat": 4,
 "nbformat_minor": 4
}
