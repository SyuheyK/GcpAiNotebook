{
 "cells": [
  {
   "cell_type": "code",
   "execution_count": 3,
   "metadata": {},
   "outputs": [
    {
     "name": "stdout",
     "output_type": "stream",
     "text": [
      "3.0.3\n"
     ]
    }
   ],
   "source": [
    "%matplotlib inline\n",
    "import matplotlib\n",
    "import matplotlib.pyplot as plt\n",
    "import numpy as np\n",
    "import pandas as pd\n",
    "print(matplotlib._version.get_versions()['version'])\n",
    "\n",
    "from matplotlib import rcParams\n",
    "rcParams['font.family'] = 'sans-serif'\n",
    "rcParams['font.sans-serif'] = ['Hiragino Maru Gothic Pro', 'Yu Gothic', 'Meirio', 'Takao', 'IPAexGothic', 'IPAPGothic', 'VL PGothic', 'Noto Sans CJK JP']"
   ]
  },
  {
   "cell_type": "code",
   "execution_count": 4,
   "metadata": {},
   "outputs": [
    {
     "data": {
      "text/plain": [
       "<matplotlib.axes._subplots.AxesSubplot at 0x7f42806c44a8>"
      ]
     },
     "execution_count": 4,
     "metadata": {},
     "output_type": "execute_result"
    },
    {
     "data": {
      "image/png": "[encoded data removed]",
      "text/plain": [
       "<Figure size 432x288 with 1 Axes>"
      ]
     },
     "metadata": {
      "needs_background": "light"
     },
     "output_type": "display_data"
    }
   ],
   "source": [
    "combatpower = pd.DataFrame([530000, 120000, 10000],\n",
    "                           index=['フリーザ', 'ギニュー', 'クリリン'],\n",
    "                           columns=['戦闘力'])\n",
    "# pd.Seriesでも可能（columnsの代わりにname）\n",
    "\n",
    "combatpower.plot.barh()\n",
    "# combatpower.plot(kind='barh') # これも同じ"
   ]
  },
  {
   "cell_type": "code",
   "execution_count": 5,
   "metadata": {},
   "outputs": [
    {
     "ename": "SyntaxError",
     "evalue": "invalid syntax (<ipython-input-5-e98b80778466>, line 25)",
     "output_type": "error",
     "traceback": [
      "\u001b[0;36m  File \u001b[0;32m\"<ipython-input-5-e98b80778466>\"\u001b[0;36m, line \u001b[0;32m25\u001b[0m\n\u001b[0;31m    ax.text(value+vmax*0.02, i, f'{value:,}', fontsize='x-large', va='center', color='C0')\u001b[0m\n\u001b[0m                                           ^\u001b[0m\n\u001b[0;31mSyntaxError\u001b[0m\u001b[0;31m:\u001b[0m invalid syntax\n"
     ]
    }
   ],
   "source": [
    "# 1. 凡例を消す legend=False\n",
    "# 2. バーの間を詰める width=0.8\n",
    "fig, ax = plt.subplots(figsize=(6, 3))\n",
    "combatpower.plot.barh(legend=False, ax=ax, width=0.8)\n",
    "\n",
    "# 3. y軸の順番を逆に\n",
    "ax.invert_yaxis()\n",
    "\n",
    "# 4. 四方の枠(spines)を消す\n",
    "[spine.set_visible(False) for spine in ax.spines.values()]\n",
    "# 以下でも可能\n",
    "# sides = ['left', 'right', 'top', 'bottom']\n",
    "# [ax.spines[side].set_visible(False) for side in sides] \n",
    "\n",
    "# 5. y軸x軸のtickを消す\n",
    "# 6. x軸のtick label(10000など)を消す\n",
    "ax.tick_params(bottom=False, left=False, labelbottom=False)\n",
    "\n",
    "# 7. y軸のラベルサイズを大きく\n",
    "ax.tick_params(axis='y', labelsize='x-large')\n",
    "\n",
    "# 8. バーの右側に実際の値を表示\n",
    "vmax = combatpower['戦闘力'].max()\n",
    "for i, value in enumerate(combatpower['戦闘力']):\n",
    "    ax.text(value+vmax*0.02, i, f'{value:,}', fontsize='x-large', va='center', color='C0')"
   ]
  },
  {
   "cell_type": "code",
   "execution_count": null,
   "metadata": {},
   "outputs": [],
   "source": []
  }
 ],
 "metadata": {
  "kernelspec": {
   "display_name": "Python 3",
   "language": "python",
   "name": "python3"
  },
  "language_info": {
   "codemirror_mode": {
    "name": "ipython",
    "version": 3
   },
   "file_extension": ".py",
   "mimetype": "text/x-python",
   "name": "python",
   "nbconvert_exporter": "python",
   "pygments_lexer": "ipython3",
   "version": "3.5.3"
  }
 },
 "nbformat": 4,
 "nbformat_minor": 4
}
